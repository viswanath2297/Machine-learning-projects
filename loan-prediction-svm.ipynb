{
 "cells": [
  {
   "cell_type": "code",
   "execution_count": 1,
   "id": "e404a867",
   "metadata": {
    "_cell_guid": "b1076dfc-b9ad-4769-8c92-a6c4dae69d19",
    "_uuid": "8f2839f25d086af736a60e9eeb907d3b93b6e0e5",
    "execution": {
     "iopub.execute_input": "2022-09-29T03:52:45.526199Z",
     "iopub.status.busy": "2022-09-29T03:52:45.525153Z",
     "iopub.status.idle": "2022-09-29T03:52:45.545985Z",
     "shell.execute_reply": "2022-09-29T03:52:45.544822Z"
    },
    "papermill": {
     "duration": 0.037699,
     "end_time": "2022-09-29T03:52:45.548787",
     "exception": false,
     "start_time": "2022-09-29T03:52:45.511088",
     "status": "completed"
    },
    "tags": []
   },
   "outputs": [
    {
     "name": "stdout",
     "output_type": "stream",
     "text": [
      "/kaggle/input/loan-predication/train_u6lujuX_CVtuZ9i (1).csv\n"
     ]
    }
   ],
   "source": [
    "# This Python 3 environment comes with many helpful analytics libraries installed\n",
    "# It is defined by the kaggle/python Docker image: https://github.com/kaggle/docker-python\n",
    "# For example, here's several helpful packages to load\n",
    "\n",
    "import numpy as np # linear algebra\n",
    "import pandas as pd # data processing, CSV file I/O (e.g. pd.read_csv)\n",
    "\n",
    "# Input data files are available in the read-only \"../input/\" directory\n",
    "# For example, running this (by clicking run or pressing Shift+Enter) will list all files under the input directory\n",
    "\n",
    "import os\n",
    "for dirname, _, filenames in os.walk('/kaggle/input'):\n",
    "    for filename in filenames:\n",
    "        print(os.path.join(dirname, filename))\n",
    "\n",
    "# You can write up to 20GB to the current directory (/kaggle/working/) that gets preserved as output when you create a version using \"Save & Run All\" \n",
    "# You can also write temporary files to /kaggle/temp/, but they won't be saved outside of the current session"
   ]
  },
  {
   "cell_type": "markdown",
   "id": "39f74d1b",
   "metadata": {
    "papermill": {
     "duration": 0.010126,
     "end_time": "2022-09-29T03:52:45.570076",
     "exception": false,
     "start_time": "2022-09-29T03:52:45.559950",
     "status": "completed"
    },
    "tags": []
   },
   "source": [
    "\n",
    "Importing the Dependencies"
   ]
  },
  {
   "cell_type": "code",
   "execution_count": 2,
   "id": "68257770",
   "metadata": {
    "execution": {
     "iopub.execute_input": "2022-09-29T03:52:45.594584Z",
     "iopub.status.busy": "2022-09-29T03:52:45.594143Z",
     "iopub.status.idle": "2022-09-29T03:52:46.889030Z",
     "shell.execute_reply": "2022-09-29T03:52:46.887732Z"
    },
    "papermill": {
     "duration": 1.311363,
     "end_time": "2022-09-29T03:52:46.891895",
     "exception": false,
     "start_time": "2022-09-29T03:52:45.580532",
     "status": "completed"
    },
    "tags": []
   },
   "outputs": [],
   "source": [
    "import numpy as np\n",
    "import pandas as pd\n",
    "import seaborn as sns\n",
    "from sklearn.preprocessing import StandardScaler\n",
    "from sklearn.model_selection import train_test_split\n",
    "from sklearn import svm\n",
    "from sklearn.metrics import accuracy_score"
   ]
  },
  {
   "cell_type": "markdown",
   "id": "f6c26aa2",
   "metadata": {
    "papermill": {
     "duration": 0.010361,
     "end_time": "2022-09-29T03:52:46.912731",
     "exception": false,
     "start_time": "2022-09-29T03:52:46.902370",
     "status": "completed"
    },
    "tags": []
   },
   "source": [
    "Data Collection and Processing"
   ]
  },
  {
   "cell_type": "code",
   "execution_count": 3,
   "id": "0a4f17dc",
   "metadata": {
    "execution": {
     "iopub.execute_input": "2022-09-29T03:52:46.935096Z",
     "iopub.status.busy": "2022-09-29T03:52:46.934656Z",
     "iopub.status.idle": "2022-09-29T03:52:46.952758Z",
     "shell.execute_reply": "2022-09-29T03:52:46.951644Z"
    },
    "papermill": {
     "duration": 0.032049,
     "end_time": "2022-09-29T03:52:46.955165",
     "exception": false,
     "start_time": "2022-09-29T03:52:46.923116",
     "status": "completed"
    },
    "tags": []
   },
   "outputs": [],
   "source": [
    "# loading the dataset to pandas DataFrame\n",
    "loan_dataset = pd.read_csv('../input/loan-predication/train_u6lujuX_CVtuZ9i (1).csv')"
   ]
  },
  {
   "cell_type": "code",
   "execution_count": 4,
   "id": "c61a1ab2",
   "metadata": {
    "execution": {
     "iopub.execute_input": "2022-09-29T03:52:46.977975Z",
     "iopub.status.busy": "2022-09-29T03:52:46.977300Z",
     "iopub.status.idle": "2022-09-29T03:52:46.985626Z",
     "shell.execute_reply": "2022-09-29T03:52:46.984561Z"
    },
    "papermill": {
     "duration": 0.022001,
     "end_time": "2022-09-29T03:52:46.987699",
     "exception": false,
     "start_time": "2022-09-29T03:52:46.965698",
     "status": "completed"
    },
    "tags": []
   },
   "outputs": [
    {
     "data": {
      "text/plain": [
       "pandas.core.frame.DataFrame"
      ]
     },
     "execution_count": 4,
     "metadata": {},
     "output_type": "execute_result"
    }
   ],
   "source": [
    "type(loan_dataset)"
   ]
  },
  {
   "cell_type": "code",
   "execution_count": 5,
   "id": "141b5deb",
   "metadata": {
    "execution": {
     "iopub.execute_input": "2022-09-29T03:52:47.010670Z",
     "iopub.status.busy": "2022-09-29T03:52:47.009969Z",
     "iopub.status.idle": "2022-09-29T03:52:47.035629Z",
     "shell.execute_reply": "2022-09-29T03:52:47.034664Z"
    },
    "papermill": {
     "duration": 0.039812,
     "end_time": "2022-09-29T03:52:47.037968",
     "exception": false,
     "start_time": "2022-09-29T03:52:46.998156",
     "status": "completed"
    },
    "tags": []
   },
   "outputs": [
    {
     "data": {
      "text/html": [
       "<div>\n",
       "<style scoped>\n",
       "    .dataframe tbody tr th:only-of-type {\n",
       "        vertical-align: middle;\n",
       "    }\n",
       "\n",
       "    .dataframe tbody tr th {\n",
       "        vertical-align: top;\n",
       "    }\n",
       "\n",
       "    .dataframe thead th {\n",
       "        text-align: right;\n",
       "    }\n",
       "</style>\n",
       "<table border=\"1\" class=\"dataframe\">\n",
       "  <thead>\n",
       "    <tr style=\"text-align: right;\">\n",
       "      <th></th>\n",
       "      <th>Loan_ID</th>\n",
       "      <th>Gender</th>\n",
       "      <th>Married</th>\n",
       "      <th>Dependents</th>\n",
       "      <th>Education</th>\n",
       "      <th>Self_Employed</th>\n",
       "      <th>ApplicantIncome</th>\n",
       "      <th>CoapplicantIncome</th>\n",
       "      <th>LoanAmount</th>\n",
       "      <th>Loan_Amount_Term</th>\n",
       "      <th>Credit_History</th>\n",
       "      <th>Property_Area</th>\n",
       "      <th>Loan_Status</th>\n",
       "    </tr>\n",
       "  </thead>\n",
       "  <tbody>\n",
       "    <tr>\n",
       "      <th>0</th>\n",
       "      <td>LP001002</td>\n",
       "      <td>Male</td>\n",
       "      <td>No</td>\n",
       "      <td>0</td>\n",
       "      <td>Graduate</td>\n",
       "      <td>No</td>\n",
       "      <td>5849</td>\n",
       "      <td>0.0</td>\n",
       "      <td>NaN</td>\n",
       "      <td>360.0</td>\n",
       "      <td>1.0</td>\n",
       "      <td>Urban</td>\n",
       "      <td>Y</td>\n",
       "    </tr>\n",
       "    <tr>\n",
       "      <th>1</th>\n",
       "      <td>LP001003</td>\n",
       "      <td>Male</td>\n",
       "      <td>Yes</td>\n",
       "      <td>1</td>\n",
       "      <td>Graduate</td>\n",
       "      <td>No</td>\n",
       "      <td>4583</td>\n",
       "      <td>1508.0</td>\n",
       "      <td>128.0</td>\n",
       "      <td>360.0</td>\n",
       "      <td>1.0</td>\n",
       "      <td>Rural</td>\n",
       "      <td>N</td>\n",
       "    </tr>\n",
       "    <tr>\n",
       "      <th>2</th>\n",
       "      <td>LP001005</td>\n",
       "      <td>Male</td>\n",
       "      <td>Yes</td>\n",
       "      <td>0</td>\n",
       "      <td>Graduate</td>\n",
       "      <td>Yes</td>\n",
       "      <td>3000</td>\n",
       "      <td>0.0</td>\n",
       "      <td>66.0</td>\n",
       "      <td>360.0</td>\n",
       "      <td>1.0</td>\n",
       "      <td>Urban</td>\n",
       "      <td>Y</td>\n",
       "    </tr>\n",
       "    <tr>\n",
       "      <th>3</th>\n",
       "      <td>LP001006</td>\n",
       "      <td>Male</td>\n",
       "      <td>Yes</td>\n",
       "      <td>0</td>\n",
       "      <td>Not Graduate</td>\n",
       "      <td>No</td>\n",
       "      <td>2583</td>\n",
       "      <td>2358.0</td>\n",
       "      <td>120.0</td>\n",
       "      <td>360.0</td>\n",
       "      <td>1.0</td>\n",
       "      <td>Urban</td>\n",
       "      <td>Y</td>\n",
       "    </tr>\n",
       "    <tr>\n",
       "      <th>4</th>\n",
       "      <td>LP001008</td>\n",
       "      <td>Male</td>\n",
       "      <td>No</td>\n",
       "      <td>0</td>\n",
       "      <td>Graduate</td>\n",
       "      <td>No</td>\n",
       "      <td>6000</td>\n",
       "      <td>0.0</td>\n",
       "      <td>141.0</td>\n",
       "      <td>360.0</td>\n",
       "      <td>1.0</td>\n",
       "      <td>Urban</td>\n",
       "      <td>Y</td>\n",
       "    </tr>\n",
       "  </tbody>\n",
       "</table>\n",
       "</div>"
      ],
      "text/plain": [
       "    Loan_ID Gender Married Dependents     Education Self_Employed  \\\n",
       "0  LP001002   Male      No          0      Graduate            No   \n",
       "1  LP001003   Male     Yes          1      Graduate            No   \n",
       "2  LP001005   Male     Yes          0      Graduate           Yes   \n",
       "3  LP001006   Male     Yes          0  Not Graduate            No   \n",
       "4  LP001008   Male      No          0      Graduate            No   \n",
       "\n",
       "   ApplicantIncome  CoapplicantIncome  LoanAmount  Loan_Amount_Term  \\\n",
       "0             5849                0.0         NaN             360.0   \n",
       "1             4583             1508.0       128.0             360.0   \n",
       "2             3000                0.0        66.0             360.0   \n",
       "3             2583             2358.0       120.0             360.0   \n",
       "4             6000                0.0       141.0             360.0   \n",
       "\n",
       "   Credit_History Property_Area Loan_Status  \n",
       "0             1.0         Urban           Y  \n",
       "1             1.0         Rural           N  \n",
       "2             1.0         Urban           Y  \n",
       "3             1.0         Urban           Y  \n",
       "4             1.0         Urban           Y  "
      ]
     },
     "execution_count": 5,
     "metadata": {},
     "output_type": "execute_result"
    }
   ],
   "source": [
    "# printing the first 5 rows of the dataframe\n",
    "loan_dataset.head()"
   ]
  },
  {
   "cell_type": "code",
   "execution_count": 6,
   "id": "0384f117",
   "metadata": {
    "execution": {
     "iopub.execute_input": "2022-09-29T03:52:47.061605Z",
     "iopub.status.busy": "2022-09-29T03:52:47.060887Z",
     "iopub.status.idle": "2022-09-29T03:52:47.067002Z",
     "shell.execute_reply": "2022-09-29T03:52:47.065977Z"
    },
    "papermill": {
     "duration": 0.020618,
     "end_time": "2022-09-29T03:52:47.069352",
     "exception": false,
     "start_time": "2022-09-29T03:52:47.048734",
     "status": "completed"
    },
    "tags": []
   },
   "outputs": [
    {
     "data": {
      "text/plain": [
       "(614, 13)"
      ]
     },
     "execution_count": 6,
     "metadata": {},
     "output_type": "execute_result"
    }
   ],
   "source": [
    "# number of rows and columns\n",
    "loan_dataset.shape"
   ]
  },
  {
   "cell_type": "code",
   "execution_count": 7,
   "id": "5f389bb7",
   "metadata": {
    "execution": {
     "iopub.execute_input": "2022-09-29T03:52:47.092963Z",
     "iopub.status.busy": "2022-09-29T03:52:47.092536Z",
     "iopub.status.idle": "2022-09-29T03:52:47.138821Z",
     "shell.execute_reply": "2022-09-29T03:52:47.137622Z"
    },
    "papermill": {
     "duration": 0.061166,
     "end_time": "2022-09-29T03:52:47.141395",
     "exception": false,
     "start_time": "2022-09-29T03:52:47.080229",
     "status": "completed"
    },
    "tags": []
   },
   "outputs": [
    {
     "data": {
      "text/html": [
       "<div>\n",
       "<style scoped>\n",
       "    .dataframe tbody tr th:only-of-type {\n",
       "        vertical-align: middle;\n",
       "    }\n",
       "\n",
       "    .dataframe tbody tr th {\n",
       "        vertical-align: top;\n",
       "    }\n",
       "\n",
       "    .dataframe thead th {\n",
       "        text-align: right;\n",
       "    }\n",
       "</style>\n",
       "<table border=\"1\" class=\"dataframe\">\n",
       "  <thead>\n",
       "    <tr style=\"text-align: right;\">\n",
       "      <th></th>\n",
       "      <th>ApplicantIncome</th>\n",
       "      <th>CoapplicantIncome</th>\n",
       "      <th>LoanAmount</th>\n",
       "      <th>Loan_Amount_Term</th>\n",
       "      <th>Credit_History</th>\n",
       "    </tr>\n",
       "  </thead>\n",
       "  <tbody>\n",
       "    <tr>\n",
       "      <th>count</th>\n",
       "      <td>614.000000</td>\n",
       "      <td>614.000000</td>\n",
       "      <td>592.000000</td>\n",
       "      <td>600.00000</td>\n",
       "      <td>564.000000</td>\n",
       "    </tr>\n",
       "    <tr>\n",
       "      <th>mean</th>\n",
       "      <td>5403.459283</td>\n",
       "      <td>1621.245798</td>\n",
       "      <td>146.412162</td>\n",
       "      <td>342.00000</td>\n",
       "      <td>0.842199</td>\n",
       "    </tr>\n",
       "    <tr>\n",
       "      <th>std</th>\n",
       "      <td>6109.041673</td>\n",
       "      <td>2926.248369</td>\n",
       "      <td>85.587325</td>\n",
       "      <td>65.12041</td>\n",
       "      <td>0.364878</td>\n",
       "    </tr>\n",
       "    <tr>\n",
       "      <th>min</th>\n",
       "      <td>150.000000</td>\n",
       "      <td>0.000000</td>\n",
       "      <td>9.000000</td>\n",
       "      <td>12.00000</td>\n",
       "      <td>0.000000</td>\n",
       "    </tr>\n",
       "    <tr>\n",
       "      <th>25%</th>\n",
       "      <td>2877.500000</td>\n",
       "      <td>0.000000</td>\n",
       "      <td>100.000000</td>\n",
       "      <td>360.00000</td>\n",
       "      <td>1.000000</td>\n",
       "    </tr>\n",
       "    <tr>\n",
       "      <th>50%</th>\n",
       "      <td>3812.500000</td>\n",
       "      <td>1188.500000</td>\n",
       "      <td>128.000000</td>\n",
       "      <td>360.00000</td>\n",
       "      <td>1.000000</td>\n",
       "    </tr>\n",
       "    <tr>\n",
       "      <th>75%</th>\n",
       "      <td>5795.000000</td>\n",
       "      <td>2297.250000</td>\n",
       "      <td>168.000000</td>\n",
       "      <td>360.00000</td>\n",
       "      <td>1.000000</td>\n",
       "    </tr>\n",
       "    <tr>\n",
       "      <th>max</th>\n",
       "      <td>81000.000000</td>\n",
       "      <td>41667.000000</td>\n",
       "      <td>700.000000</td>\n",
       "      <td>480.00000</td>\n",
       "      <td>1.000000</td>\n",
       "    </tr>\n",
       "  </tbody>\n",
       "</table>\n",
       "</div>"
      ],
      "text/plain": [
       "       ApplicantIncome  CoapplicantIncome  LoanAmount  Loan_Amount_Term  \\\n",
       "count       614.000000         614.000000  592.000000         600.00000   \n",
       "mean       5403.459283        1621.245798  146.412162         342.00000   \n",
       "std        6109.041673        2926.248369   85.587325          65.12041   \n",
       "min         150.000000           0.000000    9.000000          12.00000   \n",
       "25%        2877.500000           0.000000  100.000000         360.00000   \n",
       "50%        3812.500000        1188.500000  128.000000         360.00000   \n",
       "75%        5795.000000        2297.250000  168.000000         360.00000   \n",
       "max       81000.000000       41667.000000  700.000000         480.00000   \n",
       "\n",
       "       Credit_History  \n",
       "count      564.000000  \n",
       "mean         0.842199  \n",
       "std          0.364878  \n",
       "min          0.000000  \n",
       "25%          1.000000  \n",
       "50%          1.000000  \n",
       "75%          1.000000  \n",
       "max          1.000000  "
      ]
     },
     "execution_count": 7,
     "metadata": {},
     "output_type": "execute_result"
    }
   ],
   "source": [
    "# statistical measures\n",
    "loan_dataset.describe()"
   ]
  },
  {
   "cell_type": "code",
   "execution_count": 8,
   "id": "9d6964bf",
   "metadata": {
    "execution": {
     "iopub.execute_input": "2022-09-29T03:52:47.169306Z",
     "iopub.status.busy": "2022-09-29T03:52:47.168745Z",
     "iopub.status.idle": "2022-09-29T03:52:47.178684Z",
     "shell.execute_reply": "2022-09-29T03:52:47.177671Z"
    },
    "papermill": {
     "duration": 0.02739,
     "end_time": "2022-09-29T03:52:47.181085",
     "exception": false,
     "start_time": "2022-09-29T03:52:47.153695",
     "status": "completed"
    },
    "tags": []
   },
   "outputs": [
    {
     "data": {
      "text/plain": [
       "Loan_ID               0\n",
       "Gender               13\n",
       "Married               3\n",
       "Dependents           15\n",
       "Education             0\n",
       "Self_Employed        32\n",
       "ApplicantIncome       0\n",
       "CoapplicantIncome     0\n",
       "LoanAmount           22\n",
       "Loan_Amount_Term     14\n",
       "Credit_History       50\n",
       "Property_Area         0\n",
       "Loan_Status           0\n",
       "dtype: int64"
      ]
     },
     "execution_count": 8,
     "metadata": {},
     "output_type": "execute_result"
    }
   ],
   "source": [
    "# number of missing values in each column\n",
    "loan_dataset.isnull().sum()"
   ]
  },
  {
   "cell_type": "code",
   "execution_count": 9,
   "id": "a6b427d8",
   "metadata": {
    "execution": {
     "iopub.execute_input": "2022-09-29T03:52:47.205959Z",
     "iopub.status.busy": "2022-09-29T03:52:47.205569Z",
     "iopub.status.idle": "2022-09-29T03:52:47.213035Z",
     "shell.execute_reply": "2022-09-29T03:52:47.212129Z"
    },
    "papermill": {
     "duration": 0.022569,
     "end_time": "2022-09-29T03:52:47.215377",
     "exception": false,
     "start_time": "2022-09-29T03:52:47.192808",
     "status": "completed"
    },
    "tags": []
   },
   "outputs": [],
   "source": [
    "# dropping the missing values\n",
    "loan_dataset = loan_dataset.dropna()"
   ]
  },
  {
   "cell_type": "code",
   "execution_count": 10,
   "id": "c1804459",
   "metadata": {
    "execution": {
     "iopub.execute_input": "2022-09-29T03:52:47.239863Z",
     "iopub.status.busy": "2022-09-29T03:52:47.239463Z",
     "iopub.status.idle": "2022-09-29T03:52:47.248226Z",
     "shell.execute_reply": "2022-09-29T03:52:47.247457Z"
    },
    "papermill": {
     "duration": 0.023514,
     "end_time": "2022-09-29T03:52:47.250250",
     "exception": false,
     "start_time": "2022-09-29T03:52:47.226736",
     "status": "completed"
    },
    "tags": []
   },
   "outputs": [
    {
     "data": {
      "text/plain": [
       "Loan_ID              0\n",
       "Gender               0\n",
       "Married              0\n",
       "Dependents           0\n",
       "Education            0\n",
       "Self_Employed        0\n",
       "ApplicantIncome      0\n",
       "CoapplicantIncome    0\n",
       "LoanAmount           0\n",
       "Loan_Amount_Term     0\n",
       "Credit_History       0\n",
       "Property_Area        0\n",
       "Loan_Status          0\n",
       "dtype: int64"
      ]
     },
     "execution_count": 10,
     "metadata": {},
     "output_type": "execute_result"
    }
   ],
   "source": [
    "# number of missing values in each column\n",
    "loan_dataset.isnull().sum()"
   ]
  },
  {
   "cell_type": "code",
   "execution_count": 11,
   "id": "a74fec6a",
   "metadata": {
    "execution": {
     "iopub.execute_input": "2022-09-29T03:52:47.275110Z",
     "iopub.status.busy": "2022-09-29T03:52:47.274708Z",
     "iopub.status.idle": "2022-09-29T03:52:47.281845Z",
     "shell.execute_reply": "2022-09-29T03:52:47.280584Z"
    },
    "papermill": {
     "duration": 0.022253,
     "end_time": "2022-09-29T03:52:47.284154",
     "exception": false,
     "start_time": "2022-09-29T03:52:47.261901",
     "status": "completed"
    },
    "tags": []
   },
   "outputs": [],
   "source": [
    "# label encoding\n",
    "loan_dataset.replace({\"Loan_Status\":{'N':0,'Y':1}},inplace=True)"
   ]
  },
  {
   "cell_type": "code",
   "execution_count": 12,
   "id": "25288cd9",
   "metadata": {
    "execution": {
     "iopub.execute_input": "2022-09-29T03:52:47.308884Z",
     "iopub.status.busy": "2022-09-29T03:52:47.308475Z",
     "iopub.status.idle": "2022-09-29T03:52:47.328184Z",
     "shell.execute_reply": "2022-09-29T03:52:47.327040Z"
    },
    "papermill": {
     "duration": 0.035032,
     "end_time": "2022-09-29T03:52:47.330611",
     "exception": false,
     "start_time": "2022-09-29T03:52:47.295579",
     "status": "completed"
    },
    "tags": []
   },
   "outputs": [
    {
     "data": {
      "text/html": [
       "<div>\n",
       "<style scoped>\n",
       "    .dataframe tbody tr th:only-of-type {\n",
       "        vertical-align: middle;\n",
       "    }\n",
       "\n",
       "    .dataframe tbody tr th {\n",
       "        vertical-align: top;\n",
       "    }\n",
       "\n",
       "    .dataframe thead th {\n",
       "        text-align: right;\n",
       "    }\n",
       "</style>\n",
       "<table border=\"1\" class=\"dataframe\">\n",
       "  <thead>\n",
       "    <tr style=\"text-align: right;\">\n",
       "      <th></th>\n",
       "      <th>Loan_ID</th>\n",
       "      <th>Gender</th>\n",
       "      <th>Married</th>\n",
       "      <th>Dependents</th>\n",
       "      <th>Education</th>\n",
       "      <th>Self_Employed</th>\n",
       "      <th>ApplicantIncome</th>\n",
       "      <th>CoapplicantIncome</th>\n",
       "      <th>LoanAmount</th>\n",
       "      <th>Loan_Amount_Term</th>\n",
       "      <th>Credit_History</th>\n",
       "      <th>Property_Area</th>\n",
       "      <th>Loan_Status</th>\n",
       "    </tr>\n",
       "  </thead>\n",
       "  <tbody>\n",
       "    <tr>\n",
       "      <th>1</th>\n",
       "      <td>LP001003</td>\n",
       "      <td>Male</td>\n",
       "      <td>Yes</td>\n",
       "      <td>1</td>\n",
       "      <td>Graduate</td>\n",
       "      <td>No</td>\n",
       "      <td>4583</td>\n",
       "      <td>1508.0</td>\n",
       "      <td>128.0</td>\n",
       "      <td>360.0</td>\n",
       "      <td>1.0</td>\n",
       "      <td>Rural</td>\n",
       "      <td>0</td>\n",
       "    </tr>\n",
       "    <tr>\n",
       "      <th>2</th>\n",
       "      <td>LP001005</td>\n",
       "      <td>Male</td>\n",
       "      <td>Yes</td>\n",
       "      <td>0</td>\n",
       "      <td>Graduate</td>\n",
       "      <td>Yes</td>\n",
       "      <td>3000</td>\n",
       "      <td>0.0</td>\n",
       "      <td>66.0</td>\n",
       "      <td>360.0</td>\n",
       "      <td>1.0</td>\n",
       "      <td>Urban</td>\n",
       "      <td>1</td>\n",
       "    </tr>\n",
       "    <tr>\n",
       "      <th>3</th>\n",
       "      <td>LP001006</td>\n",
       "      <td>Male</td>\n",
       "      <td>Yes</td>\n",
       "      <td>0</td>\n",
       "      <td>Not Graduate</td>\n",
       "      <td>No</td>\n",
       "      <td>2583</td>\n",
       "      <td>2358.0</td>\n",
       "      <td>120.0</td>\n",
       "      <td>360.0</td>\n",
       "      <td>1.0</td>\n",
       "      <td>Urban</td>\n",
       "      <td>1</td>\n",
       "    </tr>\n",
       "    <tr>\n",
       "      <th>4</th>\n",
       "      <td>LP001008</td>\n",
       "      <td>Male</td>\n",
       "      <td>No</td>\n",
       "      <td>0</td>\n",
       "      <td>Graduate</td>\n",
       "      <td>No</td>\n",
       "      <td>6000</td>\n",
       "      <td>0.0</td>\n",
       "      <td>141.0</td>\n",
       "      <td>360.0</td>\n",
       "      <td>1.0</td>\n",
       "      <td>Urban</td>\n",
       "      <td>1</td>\n",
       "    </tr>\n",
       "    <tr>\n",
       "      <th>5</th>\n",
       "      <td>LP001011</td>\n",
       "      <td>Male</td>\n",
       "      <td>Yes</td>\n",
       "      <td>2</td>\n",
       "      <td>Graduate</td>\n",
       "      <td>Yes</td>\n",
       "      <td>5417</td>\n",
       "      <td>4196.0</td>\n",
       "      <td>267.0</td>\n",
       "      <td>360.0</td>\n",
       "      <td>1.0</td>\n",
       "      <td>Urban</td>\n",
       "      <td>1</td>\n",
       "    </tr>\n",
       "  </tbody>\n",
       "</table>\n",
       "</div>"
      ],
      "text/plain": [
       "    Loan_ID Gender Married Dependents     Education Self_Employed  \\\n",
       "1  LP001003   Male     Yes          1      Graduate            No   \n",
       "2  LP001005   Male     Yes          0      Graduate           Yes   \n",
       "3  LP001006   Male     Yes          0  Not Graduate            No   \n",
       "4  LP001008   Male      No          0      Graduate            No   \n",
       "5  LP001011   Male     Yes          2      Graduate           Yes   \n",
       "\n",
       "   ApplicantIncome  CoapplicantIncome  LoanAmount  Loan_Amount_Term  \\\n",
       "1             4583             1508.0       128.0             360.0   \n",
       "2             3000                0.0        66.0             360.0   \n",
       "3             2583             2358.0       120.0             360.0   \n",
       "4             6000                0.0       141.0             360.0   \n",
       "5             5417             4196.0       267.0             360.0   \n",
       "\n",
       "   Credit_History Property_Area  Loan_Status  \n",
       "1             1.0         Rural            0  \n",
       "2             1.0         Urban            1  \n",
       "3             1.0         Urban            1  \n",
       "4             1.0         Urban            1  \n",
       "5             1.0         Urban            1  "
      ]
     },
     "execution_count": 12,
     "metadata": {},
     "output_type": "execute_result"
    }
   ],
   "source": [
    "# printing the first 5 rows of the dataframe\n",
    "loan_dataset.head()"
   ]
  },
  {
   "cell_type": "code",
   "execution_count": 13,
   "id": "212bbb21",
   "metadata": {
    "execution": {
     "iopub.execute_input": "2022-09-29T03:52:47.356757Z",
     "iopub.status.busy": "2022-09-29T03:52:47.356300Z",
     "iopub.status.idle": "2022-09-29T03:52:47.365482Z",
     "shell.execute_reply": "2022-09-29T03:52:47.364374Z"
    },
    "papermill": {
     "duration": 0.025171,
     "end_time": "2022-09-29T03:52:47.367885",
     "exception": false,
     "start_time": "2022-09-29T03:52:47.342714",
     "status": "completed"
    },
    "tags": []
   },
   "outputs": [
    {
     "data": {
      "text/plain": [
       "0     274\n",
       "2      85\n",
       "1      80\n",
       "3+     41\n",
       "Name: Dependents, dtype: int64"
      ]
     },
     "execution_count": 13,
     "metadata": {},
     "output_type": "execute_result"
    }
   ],
   "source": [
    "# Dependent column values\n",
    "loan_dataset['Dependents'].value_counts()"
   ]
  },
  {
   "cell_type": "code",
   "execution_count": 14,
   "id": "994b3a51",
   "metadata": {
    "execution": {
     "iopub.execute_input": "2022-09-29T03:52:47.393551Z",
     "iopub.status.busy": "2022-09-29T03:52:47.393110Z",
     "iopub.status.idle": "2022-09-29T03:52:47.398980Z",
     "shell.execute_reply": "2022-09-29T03:52:47.398136Z"
    },
    "papermill": {
     "duration": 0.021246,
     "end_time": "2022-09-29T03:52:47.400960",
     "exception": false,
     "start_time": "2022-09-29T03:52:47.379714",
     "status": "completed"
    },
    "tags": []
   },
   "outputs": [],
   "source": [
    "# replacing the value of 3+ to 4\n",
    "loan_dataset = loan_dataset.replace(to_replace='3+', value=4)"
   ]
  },
  {
   "cell_type": "code",
   "execution_count": 15,
   "id": "de82a2ed",
   "metadata": {
    "execution": {
     "iopub.execute_input": "2022-09-29T03:52:47.426560Z",
     "iopub.status.busy": "2022-09-29T03:52:47.425524Z",
     "iopub.status.idle": "2022-09-29T03:52:47.434831Z",
     "shell.execute_reply": "2022-09-29T03:52:47.433897Z"
    },
    "papermill": {
     "duration": 0.024314,
     "end_time": "2022-09-29T03:52:47.437069",
     "exception": false,
     "start_time": "2022-09-29T03:52:47.412755",
     "status": "completed"
    },
    "tags": []
   },
   "outputs": [
    {
     "data": {
      "text/plain": [
       "0    274\n",
       "2     85\n",
       "1     80\n",
       "4     41\n",
       "Name: Dependents, dtype: int64"
      ]
     },
     "execution_count": 15,
     "metadata": {},
     "output_type": "execute_result"
    }
   ],
   "source": [
    "# dependent values\n",
    "loan_dataset['Dependents'].value_counts()"
   ]
  },
  {
   "cell_type": "markdown",
   "id": "98664f2a",
   "metadata": {
    "papermill": {
     "duration": 0.011251,
     "end_time": "2022-09-29T03:52:47.460005",
     "exception": false,
     "start_time": "2022-09-29T03:52:47.448754",
     "status": "completed"
    },
    "tags": []
   },
   "source": [
    "Data Visualization"
   ]
  },
  {
   "cell_type": "code",
   "execution_count": 16,
   "id": "bcce41c7",
   "metadata": {
    "execution": {
     "iopub.execute_input": "2022-09-29T03:52:47.484803Z",
     "iopub.status.busy": "2022-09-29T03:52:47.484373Z",
     "iopub.status.idle": "2022-09-29T03:52:47.712635Z",
     "shell.execute_reply": "2022-09-29T03:52:47.711466Z"
    },
    "papermill": {
     "duration": 0.243427,
     "end_time": "2022-09-29T03:52:47.715092",
     "exception": false,
     "start_time": "2022-09-29T03:52:47.471665",
     "status": "completed"
    },
    "tags": []
   },
   "outputs": [
    {
     "data": {
      "text/plain": [
       "<AxesSubplot:xlabel='Education', ylabel='count'>"
      ]
     },
     "execution_count": 16,
     "metadata": {},
     "output_type": "execute_result"
    },
    {
     "data": {
      "image/png": "[encoded data removed]",
      "text/plain": [
       "<Figure size 432x288 with 1 Axes>"
      ]
     },
     "metadata": {
      "needs_background": "light"
     },
     "output_type": "display_data"
    }
   ],
   "source": [
    "# education & Loan Status\n",
    "sns.countplot(x='Education',hue='Loan_Status',data=loan_dataset)"
   ]
  },
  {
   "cell_type": "code",
   "execution_count": 17,
   "id": "802ab1c0",
   "metadata": {
    "execution": {
     "iopub.execute_input": "2022-09-29T03:52:47.740783Z",
     "iopub.status.busy": "2022-09-29T03:52:47.740362Z",
     "iopub.status.idle": "2022-09-29T03:52:47.895353Z",
     "shell.execute_reply": "2022-09-29T03:52:47.894522Z"
    },
    "papermill": {
     "duration": 0.17061,
     "end_time": "2022-09-29T03:52:47.897755",
     "exception": false,
     "start_time": "2022-09-29T03:52:47.727145",
     "status": "completed"
    },
    "tags": []
   },
   "outputs": [
    {
     "data": {
      "text/plain": [
       "<AxesSubplot:xlabel='Married', ylabel='count'>"
      ]
     },
     "execution_count": 17,
     "metadata": {},
     "output_type": "execute_result"
    },
    {
     "data": {
      "image/png": "[encoded data removed]",
      "text/plain": [
       "<Figure size 432x288 with 1 Axes>"
      ]
     },
     "metadata": {
      "needs_background": "light"
     },
     "output_type": "display_data"
    }
   ],
   "source": [
    "# marital status & Loan Status\n",
    "sns.countplot(x='Married',hue='Loan_Status',data=loan_dataset)"
   ]
  },
  {
   "cell_type": "code",
   "execution_count": 18,
   "id": "beeda316",
   "metadata": {
    "execution": {
     "iopub.execute_input": "2022-09-29T03:52:47.924298Z",
     "iopub.status.busy": "2022-09-29T03:52:47.923892Z",
     "iopub.status.idle": "2022-09-29T03:52:47.937899Z",
     "shell.execute_reply": "2022-09-29T03:52:47.936985Z"
    },
    "papermill": {
     "duration": 0.029956,
     "end_time": "2022-09-29T03:52:47.940137",
     "exception": false,
     "start_time": "2022-09-29T03:52:47.910181",
     "status": "completed"
    },
    "tags": []
   },
   "outputs": [],
   "source": [
    "# convert categorical columns to numerical values\n",
    "loan_dataset.replace({'Married':{'No':0,'Yes':1},'Gender':{'Male':1,'Female':0},'Self_Employed':{'No':0,'Yes':1},\n",
    "                      'Property_Area':{'Rural':0,'Semiurban':1,'Urban':2},'Education':{'Graduate':1,'Not Graduate':0}},inplace=True)"
   ]
  },
  {
   "cell_type": "code",
   "execution_count": 19,
   "id": "da74a35e",
   "metadata": {
    "execution": {
     "iopub.execute_input": "2022-09-29T03:52:47.967205Z",
     "iopub.status.busy": "2022-09-29T03:52:47.966480Z",
     "iopub.status.idle": "2022-09-29T03:52:47.988533Z",
     "shell.execute_reply": "2022-09-29T03:52:47.987019Z"
    },
    "papermill": {
     "duration": 0.038759,
     "end_time": "2022-09-29T03:52:47.991537",
     "exception": false,
     "start_time": "2022-09-29T03:52:47.952778",
     "status": "completed"
    },
    "tags": []
   },
   "outputs": [
    {
     "data": {
      "text/html": [
       "<div>\n",
       "<style scoped>\n",
       "    .dataframe tbody tr th:only-of-type {\n",
       "        vertical-align: middle;\n",
       "    }\n",
       "\n",
       "    .dataframe tbody tr th {\n",
       "        vertical-align: top;\n",
       "    }\n",
       "\n",
       "    .dataframe thead th {\n",
       "        text-align: right;\n",
       "    }\n",
       "</style>\n",
       "<table border=\"1\" class=\"dataframe\">\n",
       "  <thead>\n",
       "    <tr style=\"text-align: right;\">\n",
       "      <th></th>\n",
       "      <th>Loan_ID</th>\n",
       "      <th>Gender</th>\n",
       "      <th>Married</th>\n",
       "      <th>Dependents</th>\n",
       "      <th>Education</th>\n",
       "      <th>Self_Employed</th>\n",
       "      <th>ApplicantIncome</th>\n",
       "      <th>CoapplicantIncome</th>\n",
       "      <th>LoanAmount</th>\n",
       "      <th>Loan_Amount_Term</th>\n",
       "      <th>Credit_History</th>\n",
       "      <th>Property_Area</th>\n",
       "      <th>Loan_Status</th>\n",
       "    </tr>\n",
       "  </thead>\n",
       "  <tbody>\n",
       "    <tr>\n",
       "      <th>1</th>\n",
       "      <td>LP001003</td>\n",
       "      <td>1</td>\n",
       "      <td>1</td>\n",
       "      <td>1</td>\n",
       "      <td>1</td>\n",
       "      <td>0</td>\n",
       "      <td>4583</td>\n",
       "      <td>1508.0</td>\n",
       "      <td>128.0</td>\n",
       "      <td>360.0</td>\n",
       "      <td>1.0</td>\n",
       "      <td>0</td>\n",
       "      <td>0</td>\n",
       "    </tr>\n",
       "    <tr>\n",
       "      <th>2</th>\n",
       "      <td>LP001005</td>\n",
       "      <td>1</td>\n",
       "      <td>1</td>\n",
       "      <td>0</td>\n",
       "      <td>1</td>\n",
       "      <td>1</td>\n",
       "      <td>3000</td>\n",
       "      <td>0.0</td>\n",
       "      <td>66.0</td>\n",
       "      <td>360.0</td>\n",
       "      <td>1.0</td>\n",
       "      <td>2</td>\n",
       "      <td>1</td>\n",
       "    </tr>\n",
       "    <tr>\n",
       "      <th>3</th>\n",
       "      <td>LP001006</td>\n",
       "      <td>1</td>\n",
       "      <td>1</td>\n",
       "      <td>0</td>\n",
       "      <td>0</td>\n",
       "      <td>0</td>\n",
       "      <td>2583</td>\n",
       "      <td>2358.0</td>\n",
       "      <td>120.0</td>\n",
       "      <td>360.0</td>\n",
       "      <td>1.0</td>\n",
       "      <td>2</td>\n",
       "      <td>1</td>\n",
       "    </tr>\n",
       "    <tr>\n",
       "      <th>4</th>\n",
       "      <td>LP001008</td>\n",
       "      <td>1</td>\n",
       "      <td>0</td>\n",
       "      <td>0</td>\n",
       "      <td>1</td>\n",
       "      <td>0</td>\n",
       "      <td>6000</td>\n",
       "      <td>0.0</td>\n",
       "      <td>141.0</td>\n",
       "      <td>360.0</td>\n",
       "      <td>1.0</td>\n",
       "      <td>2</td>\n",
       "      <td>1</td>\n",
       "    </tr>\n",
       "    <tr>\n",
       "      <th>5</th>\n",
       "      <td>LP001011</td>\n",
       "      <td>1</td>\n",
       "      <td>1</td>\n",
       "      <td>2</td>\n",
       "      <td>1</td>\n",
       "      <td>1</td>\n",
       "      <td>5417</td>\n",
       "      <td>4196.0</td>\n",
       "      <td>267.0</td>\n",
       "      <td>360.0</td>\n",
       "      <td>1.0</td>\n",
       "      <td>2</td>\n",
       "      <td>1</td>\n",
       "    </tr>\n",
       "  </tbody>\n",
       "</table>\n",
       "</div>"
      ],
      "text/plain": [
       "    Loan_ID  Gender  Married Dependents  Education  Self_Employed  \\\n",
       "1  LP001003       1        1          1          1              0   \n",
       "2  LP001005       1        1          0          1              1   \n",
       "3  LP001006       1        1          0          0              0   \n",
       "4  LP001008       1        0          0          1              0   \n",
       "5  LP001011       1        1          2          1              1   \n",
       "\n",
       "   ApplicantIncome  CoapplicantIncome  LoanAmount  Loan_Amount_Term  \\\n",
       "1             4583             1508.0       128.0             360.0   \n",
       "2             3000                0.0        66.0             360.0   \n",
       "3             2583             2358.0       120.0             360.0   \n",
       "4             6000                0.0       141.0             360.0   \n",
       "5             5417             4196.0       267.0             360.0   \n",
       "\n",
       "   Credit_History  Property_Area  Loan_Status  \n",
       "1             1.0              0            0  \n",
       "2             1.0              2            1  \n",
       "3             1.0              2            1  \n",
       "4             1.0              2            1  \n",
       "5             1.0              2            1  "
      ]
     },
     "execution_count": 19,
     "metadata": {},
     "output_type": "execute_result"
    }
   ],
   "source": [
    "loan_dataset.head()"
   ]
  },
  {
   "cell_type": "code",
   "execution_count": 20,
   "id": "f0ed74fb",
   "metadata": {
    "execution": {
     "iopub.execute_input": "2022-09-29T03:52:48.021441Z",
     "iopub.status.busy": "2022-09-29T03:52:48.020967Z",
     "iopub.status.idle": "2022-09-29T03:52:48.028057Z",
     "shell.execute_reply": "2022-09-29T03:52:48.027198Z"
    },
    "papermill": {
     "duration": 0.025296,
     "end_time": "2022-09-29T03:52:48.030179",
     "exception": false,
     "start_time": "2022-09-29T03:52:48.004883",
     "status": "completed"
    },
    "tags": []
   },
   "outputs": [],
   "source": [
    "# separating the data and label\n",
    "X = loan_dataset.drop(columns=['Loan_ID','Loan_Status'],axis=1)\n",
    "Y = loan_dataset['Loan_Status']"
   ]
  },
  {
   "cell_type": "code",
   "execution_count": 21,
   "id": "4d6307a0",
   "metadata": {
    "execution": {
     "iopub.execute_input": "2022-09-29T03:52:48.057807Z",
     "iopub.status.busy": "2022-09-29T03:52:48.056902Z",
     "iopub.status.idle": "2022-09-29T03:52:48.073425Z",
     "shell.execute_reply": "2022-09-29T03:52:48.072553Z"
    },
    "papermill": {
     "duration": 0.033054,
     "end_time": "2022-09-29T03:52:48.075863",
     "exception": false,
     "start_time": "2022-09-29T03:52:48.042809",
     "status": "completed"
    },
    "tags": []
   },
   "outputs": [
    {
     "name": "stdout",
     "output_type": "stream",
     "text": [
      "     Gender  Married Dependents  Education  Self_Employed  ApplicantIncome  \\\n",
      "1         1        1          1          1              0             4583   \n",
      "2         1        1          0          1              1             3000   \n",
      "3         1        1          0          0              0             2583   \n",
      "4         1        0          0          1              0             6000   \n",
      "5         1        1          2          1              1             5417   \n",
      "..      ...      ...        ...        ...            ...              ...   \n",
      "609       0        0          0          1              0             2900   \n",
      "610       1        1          4          1              0             4106   \n",
      "611       1        1          1          1              0             8072   \n",
      "612       1        1          2          1              0             7583   \n",
      "613       0        0          0          1              1             4583   \n",
      "\n",
      "     CoapplicantIncome  LoanAmount  Loan_Amount_Term  Credit_History  \\\n",
      "1               1508.0       128.0             360.0             1.0   \n",
      "2                  0.0        66.0             360.0             1.0   \n",
      "3               2358.0       120.0             360.0             1.0   \n",
      "4                  0.0       141.0             360.0             1.0   \n",
      "5               4196.0       267.0             360.0             1.0   \n",
      "..                 ...         ...               ...             ...   \n",
      "609                0.0        71.0             360.0             1.0   \n",
      "610                0.0        40.0             180.0             1.0   \n",
      "611              240.0       253.0             360.0             1.0   \n",
      "612                0.0       187.0             360.0             1.0   \n",
      "613                0.0       133.0             360.0             0.0   \n",
      "\n",
      "     Property_Area  \n",
      "1                0  \n",
      "2                2  \n",
      "3                2  \n",
      "4                2  \n",
      "5                2  \n",
      "..             ...  \n",
      "609              0  \n",
      "610              0  \n",
      "611              2  \n",
      "612              2  \n",
      "613              1  \n",
      "\n",
      "[480 rows x 11 columns]\n",
      "1      0\n",
      "2      1\n",
      "3      1\n",
      "4      1\n",
      "5      1\n",
      "      ..\n",
      "609    1\n",
      "610    1\n",
      "611    1\n",
      "612    1\n",
      "613    0\n",
      "Name: Loan_Status, Length: 480, dtype: int64\n"
     ]
    }
   ],
   "source": [
    "print(X)\n",
    "print(Y)"
   ]
  },
  {
   "cell_type": "markdown",
   "id": "dd8da55a",
   "metadata": {
    "papermill": {
     "duration": 0.012235,
     "end_time": "2022-09-29T03:52:48.100903",
     "exception": false,
     "start_time": "2022-09-29T03:52:48.088668",
     "status": "completed"
    },
    "tags": []
   },
   "source": [
    "Data Standardization"
   ]
  },
  {
   "cell_type": "code",
   "execution_count": 22,
   "id": "e1702b3c",
   "metadata": {
    "execution": {
     "iopub.execute_input": "2022-09-29T03:52:48.128902Z",
     "iopub.status.busy": "2022-09-29T03:52:48.127815Z",
     "iopub.status.idle": "2022-09-29T03:52:48.133590Z",
     "shell.execute_reply": "2022-09-29T03:52:48.132389Z"
    },
    "papermill": {
     "duration": 0.022318,
     "end_time": "2022-09-29T03:52:48.136072",
     "exception": false,
     "start_time": "2022-09-29T03:52:48.113754",
     "status": "completed"
    },
    "tags": []
   },
   "outputs": [],
   "source": [
    "scaler = StandardScaler()"
   ]
  },
  {
   "cell_type": "code",
   "execution_count": 23,
   "id": "6d4e6f2a",
   "metadata": {
    "execution": {
     "iopub.execute_input": "2022-09-29T03:52:48.163424Z",
     "iopub.status.busy": "2022-09-29T03:52:48.162937Z",
     "iopub.status.idle": "2022-09-29T03:52:48.174526Z",
     "shell.execute_reply": "2022-09-29T03:52:48.173459Z"
    },
    "papermill": {
     "duration": 0.027892,
     "end_time": "2022-09-29T03:52:48.176841",
     "exception": false,
     "start_time": "2022-09-29T03:52:48.148949",
     "status": "completed"
    },
    "tags": []
   },
   "outputs": [
    {
     "data": {
      "text/plain": [
       "StandardScaler()"
      ]
     },
     "execution_count": 23,
     "metadata": {},
     "output_type": "execute_result"
    }
   ],
   "source": [
    "scaler.fit(X)"
   ]
  },
  {
   "cell_type": "code",
   "execution_count": 24,
   "id": "70bf4a4e",
   "metadata": {
    "execution": {
     "iopub.execute_input": "2022-09-29T03:52:48.204491Z",
     "iopub.status.busy": "2022-09-29T03:52:48.204023Z",
     "iopub.status.idle": "2022-09-29T03:52:48.212075Z",
     "shell.execute_reply": "2022-09-29T03:52:48.210934Z"
    },
    "papermill": {
     "duration": 0.02461,
     "end_time": "2022-09-29T03:52:48.214397",
     "exception": false,
     "start_time": "2022-09-29T03:52:48.189787",
     "status": "completed"
    },
    "tags": []
   },
   "outputs": [],
   "source": [
    "standardized_data = scaler.transform(X)"
   ]
  },
  {
   "cell_type": "code",
   "execution_count": 25,
   "id": "b313a4cd",
   "metadata": {
    "execution": {
     "iopub.execute_input": "2022-09-29T03:52:48.242877Z",
     "iopub.status.busy": "2022-09-29T03:52:48.241804Z",
     "iopub.status.idle": "2022-09-29T03:52:48.249599Z",
     "shell.execute_reply": "2022-09-29T03:52:48.247725Z"
    },
    "papermill": {
     "duration": 0.024089,
     "end_time": "2022-09-29T03:52:48.251722",
     "exception": false,
     "start_time": "2022-09-29T03:52:48.227633",
     "status": "completed"
    },
    "tags": []
   },
   "outputs": [
    {
     "name": "stdout",
     "output_type": "stream",
     "text": [
      "[[ 0.46719815  0.73716237  0.11235219 ...  0.27554157  0.41319694\n",
      "  -1.31886834]\n",
      " [ 0.46719815  0.73716237 -0.70475462 ...  0.27554157  0.41319694\n",
      "   1.25977445]\n",
      " [ 0.46719815  0.73716237 -0.70475462 ...  0.27554157  0.41319694\n",
      "   1.25977445]\n",
      " ...\n",
      " [ 0.46719815  0.73716237  0.11235219 ...  0.27554157  0.41319694\n",
      "   1.25977445]\n",
      " [ 0.46719815  0.73716237  0.92945899 ...  0.27554157  0.41319694\n",
      "   1.25977445]\n",
      " [-2.14041943 -1.35655324 -0.70475462 ...  0.27554157 -2.42015348\n",
      "  -0.02954695]]\n"
     ]
    }
   ],
   "source": [
    "print(standardized_data)"
   ]
  },
  {
   "cell_type": "code",
   "execution_count": 26,
   "id": "c1ba9eaf",
   "metadata": {
    "execution": {
     "iopub.execute_input": "2022-09-29T03:52:48.279270Z",
     "iopub.status.busy": "2022-09-29T03:52:48.278822Z",
     "iopub.status.idle": "2022-09-29T03:52:48.283998Z",
     "shell.execute_reply": "2022-09-29T03:52:48.282893Z"
    },
    "papermill": {
     "duration": 0.021423,
     "end_time": "2022-09-29T03:52:48.286158",
     "exception": false,
     "start_time": "2022-09-29T03:52:48.264735",
     "status": "completed"
    },
    "tags": []
   },
   "outputs": [],
   "source": [
    "X = standardized_data\n",
    "Y = loan_dataset['Loan_Status']"
   ]
  },
  {
   "cell_type": "code",
   "execution_count": 27,
   "id": "cc16988b",
   "metadata": {
    "execution": {
     "iopub.execute_input": "2022-09-29T03:52:48.313868Z",
     "iopub.status.busy": "2022-09-29T03:52:48.313443Z",
     "iopub.status.idle": "2022-09-29T03:52:48.321060Z",
     "shell.execute_reply": "2022-09-29T03:52:48.319651Z"
    },
    "papermill": {
     "duration": 0.02427,
     "end_time": "2022-09-29T03:52:48.323433",
     "exception": false,
     "start_time": "2022-09-29T03:52:48.299163",
     "status": "completed"
    },
    "tags": []
   },
   "outputs": [
    {
     "name": "stdout",
     "output_type": "stream",
     "text": [
      "[[ 0.46719815  0.73716237  0.11235219 ...  0.27554157  0.41319694\n",
      "  -1.31886834]\n",
      " [ 0.46719815  0.73716237 -0.70475462 ...  0.27554157  0.41319694\n",
      "   1.25977445]\n",
      " [ 0.46719815  0.73716237 -0.70475462 ...  0.27554157  0.41319694\n",
      "   1.25977445]\n",
      " ...\n",
      " [ 0.46719815  0.73716237  0.11235219 ...  0.27554157  0.41319694\n",
      "   1.25977445]\n",
      " [ 0.46719815  0.73716237  0.92945899 ...  0.27554157  0.41319694\n",
      "   1.25977445]\n",
      " [-2.14041943 -1.35655324 -0.70475462 ...  0.27554157 -2.42015348\n",
      "  -0.02954695]]\n",
      "1      0\n",
      "2      1\n",
      "3      1\n",
      "4      1\n",
      "5      1\n",
      "      ..\n",
      "609    1\n",
      "610    1\n",
      "611    1\n",
      "612    1\n",
      "613    0\n",
      "Name: Loan_Status, Length: 480, dtype: int64\n"
     ]
    }
   ],
   "source": [
    "print(X)\n",
    "print(Y)"
   ]
  },
  {
   "cell_type": "markdown",
   "id": "2b27eca8",
   "metadata": {
    "papermill": {
     "duration": 0.012564,
     "end_time": "2022-09-29T03:52:48.349197",
     "exception": false,
     "start_time": "2022-09-29T03:52:48.336633",
     "status": "completed"
    },
    "tags": []
   },
   "source": [
    "Train Test Split"
   ]
  },
  {
   "cell_type": "code",
   "execution_count": 28,
   "id": "428ba402",
   "metadata": {
    "execution": {
     "iopub.execute_input": "2022-09-29T03:52:48.376637Z",
     "iopub.status.busy": "2022-09-29T03:52:48.376188Z",
     "iopub.status.idle": "2022-09-29T03:52:48.384185Z",
     "shell.execute_reply": "2022-09-29T03:52:48.383112Z"
    },
    "papermill": {
     "duration": 0.024287,
     "end_time": "2022-09-29T03:52:48.386420",
     "exception": false,
     "start_time": "2022-09-29T03:52:48.362133",
     "status": "completed"
    },
    "tags": []
   },
   "outputs": [],
   "source": [
    "X_train, X_test,Y_train,Y_test = train_test_split(X,Y,test_size=0.1,stratify=Y,random_state=2)"
   ]
  },
  {
   "cell_type": "code",
   "execution_count": 29,
   "id": "6c87d2de",
   "metadata": {
    "execution": {
     "iopub.execute_input": "2022-09-29T03:52:48.413914Z",
     "iopub.status.busy": "2022-09-29T03:52:48.413209Z",
     "iopub.status.idle": "2022-09-29T03:52:48.419252Z",
     "shell.execute_reply": "2022-09-29T03:52:48.418055Z"
    },
    "papermill": {
     "duration": 0.022035,
     "end_time": "2022-09-29T03:52:48.421375",
     "exception": false,
     "start_time": "2022-09-29T03:52:48.399340",
     "status": "completed"
    },
    "tags": []
   },
   "outputs": [
    {
     "name": "stdout",
     "output_type": "stream",
     "text": [
      "(480, 11) (432, 11) (48, 11)\n"
     ]
    }
   ],
   "source": [
    "print(X.shape, X_train.shape, X_test.shape)"
   ]
  },
  {
   "cell_type": "markdown",
   "id": "008d2faf",
   "metadata": {
    "papermill": {
     "duration": 0.012511,
     "end_time": "2022-09-29T03:52:48.446898",
     "exception": false,
     "start_time": "2022-09-29T03:52:48.434387",
     "status": "completed"
    },
    "tags": []
   },
   "source": [
    "Training the model:\n",
    "\n",
    "Support Vector Machine Model"
   ]
  },
  {
   "cell_type": "code",
   "execution_count": 30,
   "id": "99718002",
   "metadata": {
    "execution": {
     "iopub.execute_input": "2022-09-29T03:52:48.474696Z",
     "iopub.status.busy": "2022-09-29T03:52:48.474230Z",
     "iopub.status.idle": "2022-09-29T03:52:48.479158Z",
     "shell.execute_reply": "2022-09-29T03:52:48.478089Z"
    },
    "papermill": {
     "duration": 0.021782,
     "end_time": "2022-09-29T03:52:48.481675",
     "exception": false,
     "start_time": "2022-09-29T03:52:48.459893",
     "status": "completed"
    },
    "tags": []
   },
   "outputs": [],
   "source": [
    "classifier = svm.SVC(kernel='linear')"
   ]
  },
  {
   "cell_type": "code",
   "execution_count": 31,
   "id": "0534c84b",
   "metadata": {
    "execution": {
     "iopub.execute_input": "2022-09-29T03:52:48.510484Z",
     "iopub.status.busy": "2022-09-29T03:52:48.509657Z",
     "iopub.status.idle": "2022-09-29T03:52:48.523790Z",
     "shell.execute_reply": "2022-09-29T03:52:48.522676Z"
    },
    "papermill": {
     "duration": 0.031185,
     "end_time": "2022-09-29T03:52:48.526095",
     "exception": false,
     "start_time": "2022-09-29T03:52:48.494910",
     "status": "completed"
    },
    "tags": []
   },
   "outputs": [
    {
     "data": {
      "text/plain": [
       "SVC(kernel='linear')"
      ]
     },
     "execution_count": 31,
     "metadata": {},
     "output_type": "execute_result"
    }
   ],
   "source": [
    "classifier.fit(X_train,Y_train)"
   ]
  },
  {
   "cell_type": "markdown",
   "id": "00c602d2",
   "metadata": {
    "papermill": {
     "duration": 0.012811,
     "end_time": "2022-09-29T03:52:48.552212",
     "exception": false,
     "start_time": "2022-09-29T03:52:48.539401",
     "status": "completed"
    },
    "tags": []
   },
   "source": [
    "Model Evaluation"
   ]
  },
  {
   "cell_type": "code",
   "execution_count": 32,
   "id": "1020a442",
   "metadata": {
    "execution": {
     "iopub.execute_input": "2022-09-29T03:52:48.580685Z",
     "iopub.status.busy": "2022-09-29T03:52:48.579913Z",
     "iopub.status.idle": "2022-09-29T03:52:48.588696Z",
     "shell.execute_reply": "2022-09-29T03:52:48.587578Z"
    },
    "papermill": {
     "duration": 0.025526,
     "end_time": "2022-09-29T03:52:48.590941",
     "exception": false,
     "start_time": "2022-09-29T03:52:48.565415",
     "status": "completed"
    },
    "tags": []
   },
   "outputs": [],
   "source": [
    "# accuracy score on training data\n",
    "X_train_prediction = classifier.predict(X_train)\n",
    "training_data_accuray = accuracy_score(X_train_prediction,Y_train)"
   ]
  },
  {
   "cell_type": "code",
   "execution_count": 33,
   "id": "0993fa78",
   "metadata": {
    "execution": {
     "iopub.execute_input": "2022-09-29T03:52:48.619135Z",
     "iopub.status.busy": "2022-09-29T03:52:48.618691Z",
     "iopub.status.idle": "2022-09-29T03:52:48.624198Z",
     "shell.execute_reply": "2022-09-29T03:52:48.623291Z"
    },
    "papermill": {
     "duration": 0.022076,
     "end_time": "2022-09-29T03:52:48.626348",
     "exception": false,
     "start_time": "2022-09-29T03:52:48.604272",
     "status": "completed"
    },
    "tags": []
   },
   "outputs": [
    {
     "name": "stdout",
     "output_type": "stream",
     "text": [
      "Accuracy on training data :  0.8055555555555556\n"
     ]
    }
   ],
   "source": [
    "print('Accuracy on training data : ', training_data_accuray)"
   ]
  },
  {
   "cell_type": "code",
   "execution_count": 34,
   "id": "2e0b6851",
   "metadata": {
    "execution": {
     "iopub.execute_input": "2022-09-29T03:52:48.654954Z",
     "iopub.status.busy": "2022-09-29T03:52:48.654011Z",
     "iopub.status.idle": "2022-09-29T03:52:48.659757Z",
     "shell.execute_reply": "2022-09-29T03:52:48.658912Z"
    },
    "papermill": {
     "duration": 0.022176,
     "end_time": "2022-09-29T03:52:48.661835",
     "exception": false,
     "start_time": "2022-09-29T03:52:48.639659",
     "status": "completed"
    },
    "tags": []
   },
   "outputs": [],
   "source": [
    "# accuracy score on training data\n",
    "X_test_prediction = classifier.predict(X_test)\n",
    "test_data_accuray = accuracy_score(X_test_prediction,Y_test)"
   ]
  },
  {
   "cell_type": "code",
   "execution_count": 35,
   "id": "aad72a7d",
   "metadata": {
    "execution": {
     "iopub.execute_input": "2022-09-29T03:52:48.690153Z",
     "iopub.status.busy": "2022-09-29T03:52:48.689460Z",
     "iopub.status.idle": "2022-09-29T03:52:48.694998Z",
     "shell.execute_reply": "2022-09-29T03:52:48.693681Z"
    },
    "papermill": {
     "duration": 0.022278,
     "end_time": "2022-09-29T03:52:48.697241",
     "exception": false,
     "start_time": "2022-09-29T03:52:48.674963",
     "status": "completed"
    },
    "tags": []
   },
   "outputs": [
    {
     "name": "stdout",
     "output_type": "stream",
     "text": [
      "Accuracy on test data :  0.8333333333333334\n"
     ]
    }
   ],
   "source": [
    "print('Accuracy on test data : ', test_data_accuray)"
   ]
  },
  {
   "cell_type": "markdown",
   "id": "9fe88dc7",
   "metadata": {
    "papermill": {
     "duration": 0.012861,
     "end_time": "2022-09-29T03:52:48.723462",
     "exception": false,
     "start_time": "2022-09-29T03:52:48.710601",
     "status": "completed"
    },
    "tags": []
   },
   "source": [
    "Making a predictive system"
   ]
  },
  {
   "cell_type": "code",
   "execution_count": 36,
   "id": "e97f1340",
   "metadata": {
    "execution": {
     "iopub.execute_input": "2022-09-29T03:52:48.751797Z",
     "iopub.status.busy": "2022-09-29T03:52:48.750951Z",
     "iopub.status.idle": "2022-09-29T03:52:48.768915Z",
     "shell.execute_reply": "2022-09-29T03:52:48.767867Z"
    },
    "papermill": {
     "duration": 0.034668,
     "end_time": "2022-09-29T03:52:48.771237",
     "exception": false,
     "start_time": "2022-09-29T03:52:48.736569",
     "status": "completed"
    },
    "tags": []
   },
   "outputs": [
    {
     "data": {
      "text/html": [
       "<div>\n",
       "<style scoped>\n",
       "    .dataframe tbody tr th:only-of-type {\n",
       "        vertical-align: middle;\n",
       "    }\n",
       "\n",
       "    .dataframe tbody tr th {\n",
       "        vertical-align: top;\n",
       "    }\n",
       "\n",
       "    .dataframe thead th {\n",
       "        text-align: right;\n",
       "    }\n",
       "</style>\n",
       "<table border=\"1\" class=\"dataframe\">\n",
       "  <thead>\n",
       "    <tr style=\"text-align: right;\">\n",
       "      <th></th>\n",
       "      <th>Loan_ID</th>\n",
       "      <th>Gender</th>\n",
       "      <th>Married</th>\n",
       "      <th>Dependents</th>\n",
       "      <th>Education</th>\n",
       "      <th>Self_Employed</th>\n",
       "      <th>ApplicantIncome</th>\n",
       "      <th>CoapplicantIncome</th>\n",
       "      <th>LoanAmount</th>\n",
       "      <th>Loan_Amount_Term</th>\n",
       "      <th>Credit_History</th>\n",
       "      <th>Property_Area</th>\n",
       "      <th>Loan_Status</th>\n",
       "    </tr>\n",
       "  </thead>\n",
       "  <tbody>\n",
       "    <tr>\n",
       "      <th>1</th>\n",
       "      <td>LP001003</td>\n",
       "      <td>1</td>\n",
       "      <td>1</td>\n",
       "      <td>1</td>\n",
       "      <td>1</td>\n",
       "      <td>0</td>\n",
       "      <td>4583</td>\n",
       "      <td>1508.0</td>\n",
       "      <td>128.0</td>\n",
       "      <td>360.0</td>\n",
       "      <td>1.0</td>\n",
       "      <td>0</td>\n",
       "      <td>0</td>\n",
       "    </tr>\n",
       "    <tr>\n",
       "      <th>2</th>\n",
       "      <td>LP001005</td>\n",
       "      <td>1</td>\n",
       "      <td>1</td>\n",
       "      <td>0</td>\n",
       "      <td>1</td>\n",
       "      <td>1</td>\n",
       "      <td>3000</td>\n",
       "      <td>0.0</td>\n",
       "      <td>66.0</td>\n",
       "      <td>360.0</td>\n",
       "      <td>1.0</td>\n",
       "      <td>2</td>\n",
       "      <td>1</td>\n",
       "    </tr>\n",
       "    <tr>\n",
       "      <th>3</th>\n",
       "      <td>LP001006</td>\n",
       "      <td>1</td>\n",
       "      <td>1</td>\n",
       "      <td>0</td>\n",
       "      <td>0</td>\n",
       "      <td>0</td>\n",
       "      <td>2583</td>\n",
       "      <td>2358.0</td>\n",
       "      <td>120.0</td>\n",
       "      <td>360.0</td>\n",
       "      <td>1.0</td>\n",
       "      <td>2</td>\n",
       "      <td>1</td>\n",
       "    </tr>\n",
       "    <tr>\n",
       "      <th>4</th>\n",
       "      <td>LP001008</td>\n",
       "      <td>1</td>\n",
       "      <td>0</td>\n",
       "      <td>0</td>\n",
       "      <td>1</td>\n",
       "      <td>0</td>\n",
       "      <td>6000</td>\n",
       "      <td>0.0</td>\n",
       "      <td>141.0</td>\n",
       "      <td>360.0</td>\n",
       "      <td>1.0</td>\n",
       "      <td>2</td>\n",
       "      <td>1</td>\n",
       "    </tr>\n",
       "    <tr>\n",
       "      <th>5</th>\n",
       "      <td>LP001011</td>\n",
       "      <td>1</td>\n",
       "      <td>1</td>\n",
       "      <td>2</td>\n",
       "      <td>1</td>\n",
       "      <td>1</td>\n",
       "      <td>5417</td>\n",
       "      <td>4196.0</td>\n",
       "      <td>267.0</td>\n",
       "      <td>360.0</td>\n",
       "      <td>1.0</td>\n",
       "      <td>2</td>\n",
       "      <td>1</td>\n",
       "    </tr>\n",
       "  </tbody>\n",
       "</table>\n",
       "</div>"
      ],
      "text/plain": [
       "    Loan_ID  Gender  Married Dependents  Education  Self_Employed  \\\n",
       "1  LP001003       1        1          1          1              0   \n",
       "2  LP001005       1        1          0          1              1   \n",
       "3  LP001006       1        1          0          0              0   \n",
       "4  LP001008       1        0          0          1              0   \n",
       "5  LP001011       1        1          2          1              1   \n",
       "\n",
       "   ApplicantIncome  CoapplicantIncome  LoanAmount  Loan_Amount_Term  \\\n",
       "1             4583             1508.0       128.0             360.0   \n",
       "2             3000                0.0        66.0             360.0   \n",
       "3             2583             2358.0       120.0             360.0   \n",
       "4             6000                0.0       141.0             360.0   \n",
       "5             5417             4196.0       267.0             360.0   \n",
       "\n",
       "   Credit_History  Property_Area  Loan_Status  \n",
       "1             1.0              0            0  \n",
       "2             1.0              2            1  \n",
       "3             1.0              2            1  \n",
       "4             1.0              2            1  \n",
       "5             1.0              2            1  "
      ]
     },
     "execution_count": 36,
     "metadata": {},
     "output_type": "execute_result"
    }
   ],
   "source": [
    "loan_dataset.head()"
   ]
  },
  {
   "cell_type": "code",
   "execution_count": 37,
   "id": "227c92e3",
   "metadata": {
    "execution": {
     "iopub.execute_input": "2022-09-29T03:52:48.800543Z",
     "iopub.status.busy": "2022-09-29T03:52:48.799740Z",
     "iopub.status.idle": "2022-09-29T03:52:48.805128Z",
     "shell.execute_reply": "2022-09-29T03:52:48.803941Z"
    },
    "papermill": {
     "duration": 0.022515,
     "end_time": "2022-09-29T03:52:48.807465",
     "exception": false,
     "start_time": "2022-09-29T03:52:48.784950",
     "status": "completed"
    },
    "tags": []
   },
   "outputs": [],
   "source": [
    "input_data=(1,1,2,1,1,5417,4196,267,360,1,1)\n"
   ]
  },
  {
   "cell_type": "code",
   "execution_count": 38,
   "id": "096569db",
   "metadata": {
    "execution": {
     "iopub.execute_input": "2022-09-29T03:52:48.836661Z",
     "iopub.status.busy": "2022-09-29T03:52:48.835851Z",
     "iopub.status.idle": "2022-09-29T03:52:48.846455Z",
     "shell.execute_reply": "2022-09-29T03:52:48.845307Z"
    },
    "papermill": {
     "duration": 0.028047,
     "end_time": "2022-09-29T03:52:48.849149",
     "exception": false,
     "start_time": "2022-09-29T03:52:48.821102",
     "status": "completed"
    },
    "tags": []
   },
   "outputs": [
    {
     "name": "stdout",
     "output_type": "stream",
     "text": [
      "[[ 0.46719815  0.73716237  0.92945899  0.50325312  2.50454133  0.00931924\n",
      "   0.99997795  1.52024509  0.27554157  0.41319694 -0.02954695]]\n",
      "[1]\n",
      "The person is eligible for loan \n"
     ]
    },
    {
     "name": "stderr",
     "output_type": "stream",
     "text": [
      "/opt/conda/lib/python3.7/site-packages/sklearn/base.py:451: UserWarning: X does not have valid feature names, but StandardScaler was fitted with feature names\n",
      "  \"X does not have valid feature names, but\"\n"
     ]
    }
   ],
   "source": [
    "#changing input data to numpy array\n",
    "input_data_as_numpy_array = np.asarray(input_data)\n",
    "\n",
    "# reshape the array as we are predicting for one instance\n",
    "input_data_reshaped = input_data_as_numpy_array.reshape(1,-1)\n",
    "\n",
    "# standardize the input data\n",
    "std_data = scaler.transform(input_data_reshaped)\n",
    "print(std_data)\n",
    "\n",
    "prediction = classifier.predict(std_data)\n",
    "print(prediction)\n",
    "\n",
    "if (prediction[0] == 0):\n",
    "  print('The person is not eligible for loan')\n",
    "else:\n",
    "  print('The person is eligible for loan ')"
   ]
  },
  {
   "cell_type": "code",
   "execution_count": null,
   "id": "1c719db8",
   "metadata": {
    "papermill": {
     "duration": 0.013266,
     "end_time": "2022-09-29T03:52:48.876137",
     "exception": false,
     "start_time": "2022-09-29T03:52:48.862871",
     "status": "completed"
    },
    "tags": []
   },
   "outputs": [],
   "source": []
  }
 ],
 "metadata": {
  "kernelspec": {
   "display_name": "Python 3",
   "language": "python",
   "name": "python3"
  },
  "language_info": {
   "codemirror_mode": {
    "name": "ipython",
    "version": 3
   },
   "file_extension": ".py",
   "mimetype": "text/x-python",
   "name": "python",
   "nbconvert_exporter": "python",
   "pygments_lexer": "ipython3",
   "version": "3.7.12"
  },
  "papermill": {
   "default_parameters": {},
   "duration": 12.812811,
   "end_time": "2022-09-29T03:52:49.611932",
   "environment_variables": {},
   "exception": null,
   "input_path": "__notebook__.ipynb",
   "output_path": "__notebook__.ipynb",
   "parameters": {},
   "start_time": "2022-09-29T03:52:36.799121",
   "version": "2.3.4"
  }
 },
 "nbformat": 4,
 "nbformat_minor": 5
}
